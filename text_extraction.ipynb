{
 "cells": [
  {
   "cell_type": "code",
   "execution_count": null,
   "metadata": {},
   "outputs": [],
   "source": [
    "%pip install langchain mysql-connector-python tiktoken"
   ]
  },
  {
   "cell_type": "code",
   "execution_count": 2,
   "metadata": {},
   "outputs": [],
   "source": [
    "# import required libraries\n",
    "from langchain.chat_models import ChatOpenAI\n",
    "from langchain.chains import create_tagging_chain, create_tagging_chain_pydantic\n",
    "from langchain.prompts import ChatPromptTemplate\n",
    "import openai\n",
    "from dotenv import load_dotenv\n",
    "import os\n",
    "import tiktoken\n",
    "import time"
   ]
  },
  {
   "cell_type": "code",
   "execution_count": 3,
   "metadata": {},
   "outputs": [],
   "source": [
    "# Setting up OpenAI API Key\n",
    "openai.api_key=os.getenv('<OPENAI_API_KEY>')"
   ]
  },
  {
   "cell_type": "code",
   "execution_count": 4,
   "metadata": {},
   "outputs": [
    {
     "name": "stdout",
     "output_type": "stream",
     "text": [
      "success\n"
     ]
    }
   ],
   "source": [
    "# Connecting with MySQL database\n",
    "import mysql.connector\n",
    "myconn=mysql.connector.connect(host = \"localhost\", user = \"root\",passwd = \"<password>\", database = \"llm\")\n",
    "cur=myconn.cursor()\n",
    "\n",
    "if myconn:\n",
    "    print(\"success\")"
   ]
  },
  {
   "cell_type": "code",
   "execution_count": 5,
   "metadata": {},
   "outputs": [],
   "source": [
    "# Initializing ChatOpenAI instance with required specifications\n",
    "\n",
    "# For variation of top_p values\n",
    "#llm = ChatOpenAI(model=\"gpt-4-0613\",model_kwargs={\"top_p\":1.0})\n",
    "\n",
    "# For variation of temperature\n",
    "llm = ChatOpenAI(model=\"gpt-3.5-turbo-0613\",temperature=0.0)"
   ]
  },
  {
   "cell_type": "code",
   "execution_count": 6,
   "metadata": {},
   "outputs": [],
   "source": [
    "# Defining the structure for extracted information\n",
    "schema = {\n",
    "    \"properties\": {\n",
    "        \"Company Name\": {\"type\": \"string\"},\n",
    "        \"Company URL\":{\"type\":\"string\"},\n",
    "        \"Company Description\":{\"type\":\"string\"},\n",
    "        \"Company HQ Country\": {\"type\": \"string\"},\n",
    "        \"Funding amount\":{\"type\":\"string\"},\n",
    "        \"Funding round\":{\"type\":\"string\"},\n",
    "        \"Founder Name\": {\"type\": \"string\"},\n",
    "        \"Founder Designation\": {\"type\": \"string\"},\n",
    "        \"Investors Name\": {\"type\": \"string\"},\n",
    "        \"Investment Amount\": {\"type\": \"integer\"},\n",
    "    }\n",
    "}"
   ]
  },
  {
   "cell_type": "code",
   "execution_count": 7,
   "metadata": {},
   "outputs": [],
   "source": [
    "# Creating a tagging chain\n",
    "chain = create_tagging_chain(schema, llm)"
   ]
  },
  {
   "cell_type": "code",
   "execution_count": 8,
   "metadata": {},
   "outputs": [
    {
     "name": "stdout",
     "output_type": "stream",
     "text": [
      "{'functions': [{'name': 'information_extraction', 'description': 'Extracts the relevant information from the passage.', 'parameters': {'type': 'object', 'properties': {'Company Name': {'title': 'Company Name', 'type': 'string'}, 'Company URL': {'title': 'Company URL', 'type': 'string'}, 'Company Description': {'title': 'Company Description', 'type': 'string'}, 'Company HQ Country': {'title': 'Company HQ Country', 'type': 'string'}, 'Funding amount': {'title': 'Funding amount', 'type': 'string'}, 'Funding round': {'title': 'Funding round', 'type': 'string'}, 'Founder Name': {'title': 'Founder Name', 'type': 'string'}, 'Founder Designation': {'title': 'Founder Designation', 'type': 'string'}, 'Investors Name': {'title': 'Investors Name', 'type': 'string'}, 'Investment Amount': {'title': 'Investment Amount', 'type': 'integer'}}, 'required': []}}], 'function_call': {'name': 'information_extraction'}}\n"
     ]
    }
   ],
   "source": [
    "# Configuration parameters used for model\n",
    "print(chain.llm_kwargs)"
   ]
  },
  {
   "cell_type": "code",
   "execution_count": 9,
   "metadata": {},
   "outputs": [
    {
     "data": {
      "text/plain": [
       "JsonOutputFunctionsParser()"
      ]
     },
     "execution_count": 9,
     "metadata": {},
     "output_type": "execute_result"
    }
   ],
   "source": [
    "chain.output_parser"
   ]
  },
  {
   "cell_type": "code",
   "execution_count": 12,
   "metadata": {},
   "outputs": [],
   "source": [
    "article=\"\"\"Battery recycling startup BatX raises $5 million in funding from Zephyr Peacock, Lets Venture\n",
    "Synopsis\n",
    "The startup said the funds will be used for market expansion and to scale up recycling operations across the country.\n",
    "\n",
    "Lithium battery recycling startup BatX Energies said on Tuesday it has raised $5 million in funding from Zephyr Peacock and Lets Venture. Existing investors JITO Angel Network and the family offices of Mankind Pharma, Excel Industries and BluSmart also participated in the round.\n",
    "\n",
    "The startup said the funds will be used for market expansion and to scale up recycling operations across the country.\n",
    "\n",
    "“We are focused on reducing critical materials imports for India and producing them by recycling. With this growth capital, we will showcase developments in setting up industry standards. This investment signifies our unwavering commitment to reshaping the energy sector and circular economy,” said Utkarsh Singh, cofounder & CEO of BatX Energies.\n",
    "\n",
    "The startup aims to invest in the scaling up of the Hydrogen electrode-based critical material extraction and refining capacities, and commercial R&D for PCAM development from recycled battery minerals. Made through precipitation, precursor cathode active materials (PCAM) are a mixed-metal hydroxide of nickel, cobalt, and other chemical elements.\n",
    "\n",
    "This will enable a full-stack recycling and refurbishing solution for original equipment manufacturers (OEMs) and their customers.\n",
    "\"\"\""
   ]
  },
  {
   "cell_type": "code",
   "execution_count": 13,
   "metadata": {},
   "outputs": [
    {
     "name": "stdout",
     "output_type": "stream",
     "text": [
      "The text contains 278 tokens.\n"
     ]
    }
   ],
   "source": [
    "# Counting number of Input Tokens\n",
    "encoding = tiktoken.encoding_for_model(\"gpt-4-0613\")\n",
    "token_count = len(encoding.encode(article))\n",
    "print(f\"The text contains {token_count} tokens.\")"
   ]
  },
  {
   "cell_type": "code",
   "execution_count": 11,
   "metadata": {},
   "outputs": [],
   "source": [
    "# Execute the chain and record time taken\n",
    "import time\n",
    "\n",
    "start_time=time.time()\n",
    "results=chain.run(article)\n",
    "end_time=time.time()\n",
    "time_taken=end_time-start_time\n",
    "print(results)\n",
    "print(\"Time Taken: \",time_taken)"
   ]
  },
  {
   "cell_type": "code",
   "execution_count": 30,
   "metadata": {},
   "outputs": [
    {
     "name": "stdout",
     "output_type": "stream",
     "text": [
      "{'Company Name': 'BatX Energies', 'Company URL': None, 'Company Description': None, 'Company HQ Country': None, 'Funding amount': '$5 million', 'Funding round': 'Not specified', 'Founder Name': 'Utkarsh Singh', 'Founder Designation': 'cofounder & CEO', 'Investors Name': 'Zephyr Peacock, Lets Venture, JITO Angel Network, the family offices of Mankind Pharma, Excel Industries and BluSmart', 'Investment Amount': None}\n"
     ]
    }
   ],
   "source": [
    "# Structure the output of model f\n",
    "extracted_info = {}\n",
    "\n",
    "for field, field_schema in schema[\"properties\"].items():\n",
    "    if field in results:\n",
    "        expected_type = field_schema[\"type\"]\n",
    "        actual_value = results[field]\n",
    "\n",
    "        if expected_type == \"string\" and isinstance(actual_value, str):\n",
    "            extracted_info[field] = actual_value\n",
    "        elif expected_type == \"integer\" and isinstance(actual_value, int):\n",
    "            extracted_info[field] = actual_value\n",
    "        else:\n",
    "            extracted_info[field] = None\n",
    "    else:\n",
    "        extracted_info[field] = None\n",
    "\n",
    "print(extracted_info)"
   ]
  },
  {
   "cell_type": "code",
   "execution_count": 14,
   "metadata": {},
   "outputs": [],
   "source": [
    "# Export and store extracted information to database\n",
    "def insert_into_db(output,article,model):\n",
    "    query=\"insert into extraction_results(article_id,model_id) values(%s,%s);\"\n",
    "    val=(article,model)\n",
    "    try:  \n",
    "        cur.execute(query,val)   \n",
    "        myconn.commit()  \n",
    "        print(\"New record created!\")\n",
    "    \n",
    "    except:  \n",
    "        myconn.rollback()  \n",
    "        print(\"error\")\n",
    "\n",
    "    query = \"\"\"\n",
    "        UPDATE extraction_results \n",
    "        SET \n",
    "            Company_Name = %s,\n",
    "            Company_url = %s,\n",
    "            Company_description = %s,\n",
    "            HQ_country = %s,\n",
    "            Funding_amount = %s,\n",
    "            funding_round = %s,\n",
    "            Founder_name = %s,\n",
    "            Founder_designation = %s,\n",
    "            Investor_name = %s,\n",
    "            Investment_amount = %s\n",
    "        WHERE article_id = %s AND model_id = %s;\n",
    "    \"\"\"\n",
    "\n",
    "    values = (\n",
    "        output.get(\"Company Name\"),\n",
    "        output.get(\"Company URL\"),\n",
    "        output.get(\"Company Description\"),\n",
    "        output.get(\"Company HQ Country\"),\n",
    "        output.get(\"Funding amount\"),\n",
    "        output.get(\"Funding round\"),\n",
    "        output.get(\"Founder Name\"),\n",
    "        output.get(\"Founder Designation\"),\n",
    "        output.get(\"Investors Name\"),\n",
    "        output.get(\"Investment Amount\"),\n",
    "        article,\n",
    "        model\n",
    "        \n",
    "    )\n",
    "\n",
    "    try:  \n",
    "        cur.execute(query,values)   \n",
    "        myconn.commit()  \n",
    "        print(\"Information Updated!\")\n",
    "    \n",
    "    except:  \n",
    "        myconn.rollback() \n",
    "        print(\"error\")"
   ]
  },
  {
   "cell_type": "code",
   "execution_count": 31,
   "metadata": {},
   "outputs": [
    {
     "name": "stdout",
     "output_type": "stream",
     "text": [
      "New record created!\n",
      "Information Updated!\n"
     ]
    }
   ],
   "source": [
    "insert_into_db(results,2,8)"
   ]
  },
  {
   "cell_type": "code",
   "execution_count": null,
   "metadata": {},
   "outputs": [],
   "source": []
  }
 ],
 "metadata": {
  "kernelspec": {
   "display_name": "venv",
   "language": "python",
   "name": "python3"
  },
  "language_info": {
   "codemirror_mode": {
    "name": "ipython",
    "version": 3
   },
   "file_extension": ".py",
   "mimetype": "text/x-python",
   "name": "python",
   "nbconvert_exporter": "python",
   "pygments_lexer": "ipython3",
   "version": "3.9.9"
  }
 },
 "nbformat": 4,
 "nbformat_minor": 2
}
